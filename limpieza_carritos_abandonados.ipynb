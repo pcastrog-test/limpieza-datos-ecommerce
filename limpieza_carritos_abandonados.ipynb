{
 "cells": [
  {
   "cell_type": "markdown",
   "id": "9a6889e8",
   "metadata": {},
   "source": [
    "# Limpieza de Datos: Carritos Abandonados en un E-commerce de Moda\n",
    "\n",
    "Este notebook guía paso a paso la limpieza de un dataset de carritos abandonados en un e-commerce de moda chileno.\n",
    "Los datos contienen errores intencionales que deben corregirse antes del análisis.\n"
   ]
  },
  {
   "cell_type": "code",
   "execution_count": null,
   "id": "0999046f",
   "metadata": {},
   "outputs": [],
   "source": [
    "import pandas as pd\n",
    "\n",
    "# Cargar el dataset\n",
    "file_path = \"carritos_abandonados.csv\"  # Asegúrate de cargar el archivo correcto\n",
    "df = pd.read_csv(file_path)\n",
    "\n",
    "# Mostrar las primeras filas\n",
    "df.head()\n"
   ]
  },
  {
   "cell_type": "markdown",
   "id": "93353e4d",
   "metadata": {},
   "source": [
    "## 1. Corregir valores negativos en `ValorCarrito`"
   ]
  },
  {
   "cell_type": "code",
   "execution_count": null,
   "id": "2598a8a4",
   "metadata": {},
   "outputs": [],
   "source": [
    "df[\"ValorCarrito\"] = df[\"ValorCarrito\"].abs()\n",
    "df.head()"
   ]
  },
  {
   "cell_type": "markdown",
   "id": "b6dee843",
   "metadata": {},
   "source": [
    "## 2. Manejar valores faltantes (`Genero`, `Region`, `Dispositivo`)"
   ]
  },
  {
   "cell_type": "code",
   "execution_count": null,
   "id": "3fdbefe7",
   "metadata": {},
   "outputs": [],
   "source": [
    "df[\"Genero\"].fillna(\"No especificado\", inplace=True)\n",
    "df[\"Region\"].fillna(df[\"Region\"].mode()[0], inplace=True)\n",
    "df[\"Dispositivo\"].fillna(df[\"Dispositivo\"].mode()[0], inplace=True)\n",
    "df.isnull().sum()"
   ]
  },
  {
   "cell_type": "markdown",
   "id": "b4148794",
   "metadata": {},
   "source": [
    "## 3. Corregir inconsistencias en `ClienteRegistrado` y `ClienteRecurrente`"
   ]
  },
  {
   "cell_type": "code",
   "execution_count": null,
   "id": "f61c1dad",
   "metadata": {},
   "outputs": [],
   "source": [
    "df.loc[(df[\"ClienteRegistrado\"] == \"No\") & (df[\"ClienteRecurrente\"] == \"Sí\"), \"ClienteRegistrado\"] = \"Sí\"\n",
    "df.head()"
   ]
  },
  {
   "cell_type": "markdown",
   "id": "a04907b7",
   "metadata": {},
   "source": [
    "## 4. Eliminar RUTs duplicados"
   ]
  },
  {
   "cell_type": "code",
   "execution_count": null,
   "id": "82124d87",
   "metadata": {},
   "outputs": [],
   "source": [
    "df = df.drop_duplicates(subset=[\"RUT\"], keep=\"first\")\n",
    "df.shape"
   ]
  },
  {
   "cell_type": "markdown",
   "id": "43e82aac",
   "metadata": {},
   "source": [
    "## 5. Corregir fechas imposibles (`FechaAbandono`)"
   ]
  },
  {
   "cell_type": "code",
   "execution_count": null,
   "id": "1a91be99",
   "metadata": {},
   "outputs": [],
   "source": [
    "df[\"FechaAbandono\"] = pd.to_datetime(df[\"FechaAbandono\"], errors=\"coerce\")\n",
    "df = df.dropna(subset=[\"FechaAbandono\"])\n",
    "df.head()"
   ]
  },
  {
   "cell_type": "markdown",
   "id": "20fe676c",
   "metadata": {},
   "source": [
    "## 6. Detectar valores atípicos en `ValorCarrito`"
   ]
  },
  {
   "cell_type": "code",
   "execution_count": null,
   "id": "6652c655",
   "metadata": {},
   "outputs": [],
   "source": [
    "q1 = df[\"ValorCarrito\"].quantile(0.05)\n",
    "q3 = df[\"ValorCarrito\"].quantile(0.95)\n",
    "df = df[(df[\"ValorCarrito\"] >= q1) & (df[\"ValorCarrito\"] <= q3)]\n",
    "df.describe()"
   ]
  },
  {
   "cell_type": "markdown",
   "id": "0924610c",
   "metadata": {},
   "source": [
    "## 7. Corregir edades erróneas (`Edad`)"
   ]
  },
  {
   "cell_type": "code",
   "execution_count": null,
   "id": "a90fd052",
   "metadata": {},
   "outputs": [],
   "source": [
    "df.loc[(df[\"Edad\"] < 18) | (df[\"Edad\"] > 75), \"Edad\"] = df[\"Edad\"].median()\n",
    "df.describe()"
   ]
  },
  {
   "cell_type": "markdown",
   "id": "5c95d083",
   "metadata": {},
   "source": [
    "## 8. Revisar inconsistencias en `CantidadProductos`"
   ]
  },
  {
   "cell_type": "code",
   "execution_count": null,
   "id": "816cf06f",
   "metadata": {},
   "outputs": [],
   "source": [
    "df[\"CantidadProductos\"] = df[\"Productos\"].apply(lambda x: len(str(x).split(\"|\")))\n",
    "df.head()"
   ]
  },
  {
   "cell_type": "markdown",
   "id": "f3d50188",
   "metadata": {},
   "source": [
    "## 9. Corregir categorías mal asignadas"
   ]
  },
  {
   "cell_type": "code",
   "execution_count": null,
   "id": "303ca4cb",
   "metadata": {},
   "outputs": [],
   "source": [
    "correcciones_categorias = {\"Vestido largo rojo\": \"Ropa mujer\", \"Zapatos de vestir marrón\": \"Calzado\", \"Chaqueta de cuero negra\": \"Ropa hombre\"}\n",
    "df[\"CategoriasPrincipales\"] = df[\"Productos\"].apply(lambda x: correcciones_categorias.get(x.split(\"|\")[0], df[\"CategoriasPrincipales\"]))\n",
    "df.head()"
   ]
  }
 ],
 "metadata": {},
 "nbformat": 4,
 "nbformat_minor": 5
}